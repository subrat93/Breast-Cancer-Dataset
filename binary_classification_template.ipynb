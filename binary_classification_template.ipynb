{
 "cells": [
  {
   "cell_type": "markdown",
   "metadata": {},
   "source": [
    "# Import Statements"
   ]
  },
  {
   "cell_type": "code",
   "execution_count": 5,
   "metadata": {},
   "outputs": [],
   "source": [
    "# roc curve and auc\n",
    "from sklearn.datasets import make_classification\n",
    "from sklearn.neighbors import KNeighborsClassifier\n",
    "from sklearn.model_selection import train_test_split\n",
    "from sklearn.metrics import roc_curve\n",
    "from sklearn.metrics import roc_auc_score\n",
    "from matplotlib import pyplot\n",
    "import pandas as pd\n",
    "import numpy as np"
   ]
  },
  {
   "cell_type": "markdown",
   "metadata": {},
   "source": [
    "# Ignore Warnings"
   ]
  },
  {
   "cell_type": "code",
   "execution_count": 9,
   "metadata": {},
   "outputs": [],
   "source": [
    "import warnings\n",
    "warnings.filterwarnings('ignore')"
   ]
  },
  {
   "cell_type": "markdown",
   "metadata": {},
   "source": [
    "# Read the data"
   ]
  },
  {
   "cell_type": "code",
   "execution_count": 6,
   "metadata": {},
   "outputs": [
    {
     "data": {
      "text/html": [
       "<div>\n",
       "<style scoped>\n",
       "    .dataframe tbody tr th:only-of-type {\n",
       "        vertical-align: middle;\n",
       "    }\n",
       "\n",
       "    .dataframe tbody tr th {\n",
       "        vertical-align: top;\n",
       "    }\n",
       "\n",
       "    .dataframe thead th {\n",
       "        text-align: right;\n",
       "    }\n",
       "</style>\n",
       "<table border=\"1\" class=\"dataframe\">\n",
       "  <thead>\n",
       "    <tr style=\"text-align: right;\">\n",
       "      <th></th>\n",
       "      <th>Class</th>\n",
       "      <th>age</th>\n",
       "      <th>menopause</th>\n",
       "      <th>tumor-size</th>\n",
       "      <th>inv-nodes</th>\n",
       "      <th>node-caps</th>\n",
       "      <th>deg-malig</th>\n",
       "      <th>breast</th>\n",
       "      <th>breast-quad</th>\n",
       "      <th>irradiat</th>\n",
       "    </tr>\n",
       "  </thead>\n",
       "  <tbody>\n",
       "    <tr>\n",
       "      <th>0</th>\n",
       "      <td>no-recurrence-events</td>\n",
       "      <td>30-39</td>\n",
       "      <td>premeno</td>\n",
       "      <td>30-34</td>\n",
       "      <td>0-2</td>\n",
       "      <td>no</td>\n",
       "      <td>3</td>\n",
       "      <td>left</td>\n",
       "      <td>left_low</td>\n",
       "      <td>no</td>\n",
       "    </tr>\n",
       "    <tr>\n",
       "      <th>1</th>\n",
       "      <td>no-recurrence-events</td>\n",
       "      <td>40-49</td>\n",
       "      <td>premeno</td>\n",
       "      <td>20-24</td>\n",
       "      <td>0-2</td>\n",
       "      <td>no</td>\n",
       "      <td>2</td>\n",
       "      <td>right</td>\n",
       "      <td>right_up</td>\n",
       "      <td>no</td>\n",
       "    </tr>\n",
       "    <tr>\n",
       "      <th>2</th>\n",
       "      <td>no-recurrence-events</td>\n",
       "      <td>40-49</td>\n",
       "      <td>premeno</td>\n",
       "      <td>20-24</td>\n",
       "      <td>0-2</td>\n",
       "      <td>no</td>\n",
       "      <td>2</td>\n",
       "      <td>left</td>\n",
       "      <td>left_low</td>\n",
       "      <td>no</td>\n",
       "    </tr>\n",
       "    <tr>\n",
       "      <th>3</th>\n",
       "      <td>no-recurrence-events</td>\n",
       "      <td>60-69</td>\n",
       "      <td>ge40</td>\n",
       "      <td>15-19</td>\n",
       "      <td>0-2</td>\n",
       "      <td>no</td>\n",
       "      <td>2</td>\n",
       "      <td>right</td>\n",
       "      <td>left_up</td>\n",
       "      <td>no</td>\n",
       "    </tr>\n",
       "    <tr>\n",
       "      <th>4</th>\n",
       "      <td>no-recurrence-events</td>\n",
       "      <td>40-49</td>\n",
       "      <td>premeno</td>\n",
       "      <td>0-4</td>\n",
       "      <td>0-2</td>\n",
       "      <td>no</td>\n",
       "      <td>2</td>\n",
       "      <td>right</td>\n",
       "      <td>right_low</td>\n",
       "      <td>no</td>\n",
       "    </tr>\n",
       "  </tbody>\n",
       "</table>\n",
       "</div>"
      ],
      "text/plain": [
       "                  Class    age menopause tumor-size inv-nodes node-caps  \\\n",
       "0  no-recurrence-events  30-39   premeno      30-34       0-2        no   \n",
       "1  no-recurrence-events  40-49   premeno      20-24       0-2        no   \n",
       "2  no-recurrence-events  40-49   premeno      20-24       0-2        no   \n",
       "3  no-recurrence-events  60-69      ge40      15-19       0-2        no   \n",
       "4  no-recurrence-events  40-49   premeno        0-4       0-2        no   \n",
       "\n",
       "   deg-malig breast breast-quad irradiat  \n",
       "0          3   left    left_low       no  \n",
       "1          2  right    right_up       no  \n",
       "2          2   left    left_low       no  \n",
       "3          2  right     left_up       no  \n",
       "4          2  right   right_low       no  "
      ]
     },
     "execution_count": 6,
     "metadata": {},
     "output_type": "execute_result"
    }
   ],
   "source": [
    "df = pd.read_csv('breast-cancer-data.csv')\n",
    "df.head()"
   ]
  },
  {
   "cell_type": "markdown",
   "metadata": {},
   "source": [
    "# Separate X and y"
   ]
  },
  {
   "cell_type": "code",
   "execution_count": 27,
   "metadata": {},
   "outputs": [
    {
     "name": "stdout",
     "output_type": "stream",
     "text": [
      "no-recurrence-events    196\n",
      "recurrence-events        81\n",
      "Name: Class, dtype: int64\n",
      "     age menopause tumor-size inv-nodes node-caps  deg-malig breast  \\\n",
      "0  30-39   premeno      30-34       0-2        no          3   left   \n",
      "1  40-49   premeno      20-24       0-2        no          2  right   \n",
      "2  40-49   premeno      20-24       0-2        no          2   left   \n",
      "3  60-69      ge40      15-19       0-2        no          2  right   \n",
      "4  40-49   premeno        0-4       0-2        no          2  right   \n",
      "\n",
      "  breast-quad irradiat  \n",
      "0    left_low       no  \n",
      "1    right_up       no  \n",
      "2    left_low       no  \n",
      "3     left_up       no  \n",
      "4   right_low       no  \n"
     ]
    }
   ],
   "source": [
    "X = df.iloc[:, 1:]\n",
    "y = df.iloc[:, 0]\n",
    "\n",
    "# cols = X.columns.tolist()\n",
    "# newCols = [cols[5], *cols[0:5], *cols[6:]]\n",
    "# X = X[newCols]\n",
    "print(y.value_counts())\n",
    "print(X.head())"
   ]
  },
  {
   "cell_type": "markdown",
   "metadata": {},
   "source": [
    "# Encoding the categorical features"
   ]
  },
  {
   "cell_type": "code",
   "execution_count": 28,
   "metadata": {},
   "outputs": [],
   "source": [
    "# Encoding categorical data\n",
    "# Encoding the Independent Variable\n",
    "from sklearn.preprocessing import LabelEncoder, OneHotEncoder\n",
    "labelencoder_X = LabelEncoder()\n",
    "X.iloc[:, 0] = labelencoder_X.fit_transform(X.iloc[:, 0])\n",
    "X.iloc[:, 1] = labelencoder_X.fit_transform(X.iloc[:, 1])\n",
    "X.iloc[:, 2] = labelencoder_X.fit_transform(X.iloc[:, 2])\n",
    "X.iloc[:, 3] = labelencoder_X.fit_transform(X.iloc[:, 3])\n",
    "X.iloc[:, 4] = labelencoder_X.fit_transform(X.iloc[:, 4])\n",
    "X.iloc[:, 5] = labelencoder_X.fit_transform(X.iloc[:, 5])\n",
    "X.iloc[:, 6] = labelencoder_X.fit_transform(X.iloc[:, 6])\n",
    "X.iloc[:, 7] = labelencoder_X.fit_transform(X.iloc[:, 7])\n",
    "X.iloc[:, 8] = labelencoder_X.fit_transform(X.iloc[:, 8])\n",
    "\n",
    "onehotencoder = OneHotEncoder(categorical_features = [0,1,2,3,4,5,6,7,8])\n",
    "X = pd.DataFrame(onehotencoder.fit_transform(X).toarray())\n",
    "# Encoding the Dependent Variable\n",
    "labelencoder_y = LabelEncoder()\n",
    "y = pd.DataFrame(labelencoder_y.fit_transform(y))"
   ]
  },
  {
   "cell_type": "markdown",
   "metadata": {},
   "source": [
    "# Train-Test split"
   ]
  },
  {
   "cell_type": "code",
   "execution_count": 29,
   "metadata": {},
   "outputs": [],
   "source": [
    "X_train, X_test, y_train, y_test = train_test_split(X, y, test_size=0.2, random_state=1234, stratify=y)"
   ]
  },
  {
   "cell_type": "code",
   "execution_count": 30,
   "metadata": {},
   "outputs": [
    {
     "data": {
      "text/plain": [
       "0    156\n",
       "1     65\n",
       "Name: 0, dtype: int64"
      ]
     },
     "execution_count": 30,
     "metadata": {},
     "output_type": "execute_result"
    }
   ],
   "source": [
    "y_train[0].value_counts()"
   ]
  },
  {
   "cell_type": "code",
   "execution_count": 31,
   "metadata": {},
   "outputs": [
    {
     "data": {
      "text/plain": [
       "0    196\n",
       "1     81\n",
       "Name: 0, dtype: int64"
      ]
     },
     "execution_count": 31,
     "metadata": {},
     "output_type": "execute_result"
    }
   ],
   "source": [
    "y[0].value_counts()"
   ]
  },
  {
   "cell_type": "markdown",
   "metadata": {},
   "source": [
    "# LogisticRegression"
   ]
  },
  {
   "cell_type": "markdown",
   "metadata": {},
   "source": [
    "## Without SMOTE"
   ]
  },
  {
   "cell_type": "markdown",
   "metadata": {},
   "source": [
    "### Model Creation"
   ]
  },
  {
   "cell_type": "code",
   "execution_count": 36,
   "metadata": {},
   "outputs": [
    {
     "data": {
      "text/plain": [
       "LogisticRegression(C=0.5, class_weight=None, dual=False, fit_intercept=True,\n",
       "                   intercept_scaling=1.5, l1_ratio=None, max_iter=100,\n",
       "                   multi_class='warn', n_jobs=None, penalty='l1',\n",
       "                   random_state=123, solver='warn', tol=0.0001, verbose=0,\n",
       "                   warm_start=False)"
      ]
     },
     "execution_count": 36,
     "metadata": {},
     "output_type": "execute_result"
    }
   ],
   "source": [
    "from sklearn.metrics import precision_recall_curve\n",
    "from sklearn.metrics import f1_score\n",
    "from sklearn.metrics import auc\n",
    "from sklearn.metrics import average_precision_score\n",
    "from matplotlib import pyplot\n",
    "from sklearn.linear_model import LogisticRegression\n",
    "lg_model = LogisticRegression(penalty='l1', tol=0.0001, C=0.5, fit_intercept=True, intercept_scaling=1.5, class_weight=None, random_state=123, solver='warn', max_iter=100, multi_class='warn', verbose=0, warm_start=False, n_jobs=None)\n",
    "lg_model.fit(X_train, y_train)\n"
   ]
  },
  {
   "cell_type": "markdown",
   "metadata": {},
   "source": [
    "### Cross-Validation"
   ]
  },
  {
   "cell_type": "code",
   "execution_count": 37,
   "metadata": {},
   "outputs": [
    {
     "name": "stdout",
     "output_type": "stream",
     "text": [
      "0.7416666666666665\n",
      "0.746606334841629\n",
      "              precision    recall  f1-score   support\n",
      "\n",
      "           0       0.77      0.91      0.84       156\n",
      "           1       0.62      0.35      0.45        65\n",
      "\n",
      "    accuracy                           0.75       221\n",
      "   macro avg       0.70      0.63      0.64       221\n",
      "weighted avg       0.73      0.75      0.72       221\n",
      "\n"
     ]
    }
   ],
   "source": [
    "from sklearn import metrics\n",
    "from sklearn.model_selection import KFold, cross_val_score\n",
    "from sklearn.model_selection import cross_val_predict\n",
    "\n",
    "# Create k-Fold cross-validation\n",
    "kf = KFold(n_splits=20, shuffle=True, random_state=123)\n",
    "# Do k-fold cross-validation\n",
    "cv_results = cross_val_score(lg_model, # Model\n",
    "                             X_train, # Feature matrix\n",
    "                             y_train, # Target vector\n",
    "                             cv=kf, # Cross-validation technique\n",
    "                             scoring=\"accuracy\", # Loss function\n",
    "                             n_jobs=-1) # Use all CPU scores\n",
    "print(cv_results.mean())\n",
    "\n",
    "predicted = cross_val_predict(lg_model, X_train, y_train, cv=10)\n",
    "print(metrics.accuracy_score(y_train, predicted))\n",
    "print(metrics.classification_report(y_train, predicted))"
   ]
  },
  {
   "cell_type": "markdown",
   "metadata": {},
   "source": [
    "### Prediction and Accuracy Check"
   ]
  },
  {
   "cell_type": "code",
   "execution_count": 38,
   "metadata": {},
   "outputs": [
    {
     "name": "stdout",
     "output_type": "stream",
     "text": [
      "f1=0.273 auc=0.572 ap=0.590\n"
     ]
    },
    {
     "data": {
      "image/png": "[encoded data removed]",
      "text/plain": [
       "<Figure size 432x288 with 1 Axes>"
      ]
     },
     "metadata": {
      "needs_background": "light"
     },
     "output_type": "display_data"
    }
   ],
   "source": [
    "# predict probabilities\n",
    "lg_probs = lg_model.predict_proba(X_test)\n",
    "# keep probabilities for the positive outcome only\n",
    "lg_probs = lg_probs[:, 1]\n",
    "# predict class values\n",
    "yhat = lg_model.predict(X_test)\n",
    "# calculate precision-recall curve\n",
    "precision, recall, thresholds = precision_recall_curve(y_test, lg_probs)\n",
    "# calculate F1 score\n",
    "f1 = f1_score(y_test, yhat)\n",
    "# calculate precision-recall AUC\n",
    "auc = auc(recall, precision)\n",
    "# calculate average precision score\n",
    "ap = average_precision_score(y_test, lg_probs)\n",
    "print('f1=%.3f auc=%.3f ap=%.3f' % (f1, auc, ap))\n",
    "# plot no skill\n",
    "pyplot.plot([0, 1], [0.5, 0.5], linestyle='--')\n",
    "# plot the precision-recall curve for the model\n",
    "pyplot.plot(recall, precision, marker='.')\n",
    "# show the plot\n",
    "pyplot.show()"
   ]
  },
  {
   "cell_type": "markdown",
   "metadata": {},
   "source": [
    "## With SMOTE"
   ]
  },
  {
   "cell_type": "markdown",
   "metadata": {},
   "source": [
    "### Import SMOTE"
   ]
  },
  {
   "cell_type": "code",
   "execution_count": 39,
   "metadata": {},
   "outputs": [],
   "source": [
    "# !pip install imblearn\n",
    "from imblearn.over_sampling import SMOTE"
   ]
  },
  {
   "cell_type": "markdown",
   "metadata": {},
   "source": [
    "### Add SMOTE to original data"
   ]
  },
  {
   "cell_type": "code",
   "execution_count": 51,
   "metadata": {},
   "outputs": [
    {
     "data": {
      "text/plain": [
       "<matplotlib.axes._subplots.AxesSubplot at 0x1f5a3b67390>"
      ]
     },
     "execution_count": 51,
     "metadata": {},
     "output_type": "execute_result"
    },
    {
     "data": {
      "image/png": "[encoded data removed]",
      "text/plain": [
       "<Figure size 432x288 with 1 Axes>"
      ]
     },
     "metadata": {
      "needs_background": "light"
     },
     "output_type": "display_data"
    }
   ],
   "source": [
    "# SMOTE(sampling_strategy='auto', random_state=None, k_neighbors=5, m_neighbors='deprecated',\n",
    "# out_step='deprecated', kind='deprecated', svm_estimator='deprecated',\n",
    "# n_jobs=1, ratio=None)\n",
    "sm = SMOTE(random_state = 123, k_neighbors=5)\n",
    "X_new, y_new = sm.fit_sample(X, y)\n",
    "pd.Series(y_new).value_counts().plot.bar()"
   ]
  },
  {
   "cell_type": "markdown",
   "metadata": {},
   "source": [
    "### Split again after adding SMOTE"
   ]
  },
  {
   "cell_type": "code",
   "execution_count": 52,
   "metadata": {},
   "outputs": [],
   "source": [
    "X_train_sm, X_test_sm, y_train_sm, y_test_sm = train_test_split(X_new, y_new, test_size=0.1, random_state=1234, stratify=y_new)"
   ]
  },
  {
   "cell_type": "markdown",
   "metadata": {},
   "source": [
    "### Model Creation"
   ]
  },
  {
   "cell_type": "code",
   "execution_count": 58,
   "metadata": {},
   "outputs": [
    {
     "data": {
      "text/plain": [
       "LogisticRegression(C=0.5, class_weight=None, dual=False, fit_intercept=True,\n",
       "                   intercept_scaling=1.5, l1_ratio=None, max_iter=100,\n",
       "                   multi_class='warn', n_jobs=None, penalty='l1',\n",
       "                   random_state=123, solver='warn', tol=0.0001, verbose=0,\n",
       "                   warm_start=False)"
      ]
     },
     "execution_count": 58,
     "metadata": {},
     "output_type": "execute_result"
    }
   ],
   "source": [
    "from sklearn.metrics import precision_recall_curve\n",
    "from sklearn.metrics import f1_score\n",
    "from sklearn.metrics import auc\n",
    "from sklearn.metrics import average_precision_score\n",
    "from matplotlib import pyplot\n",
    "from sklearn.linear_model import LogisticRegression\n",
    "lg_model = LogisticRegression(penalty='l1', tol=0.0001, C=0.5, fit_intercept=True, intercept_scaling=1.5, class_weight=None, random_state=123, solver='warn', max_iter=100, multi_class='warn', verbose=0, warm_start=False, n_jobs=None)\n",
    "lg_model.fit(X_train_sm, y_train_sm)"
   ]
  },
  {
   "cell_type": "markdown",
   "metadata": {},
   "source": [
    "### Cross-Validation"
   ]
  },
  {
   "cell_type": "code",
   "execution_count": 59,
   "metadata": {},
   "outputs": [
    {
     "name": "stdout",
     "output_type": "stream",
     "text": [
      "0.672875816993464\n",
      "0.6789772727272727\n",
      "              precision    recall  f1-score   support\n",
      "\n",
      "           0       0.67      0.70      0.69       176\n",
      "           1       0.69      0.65      0.67       176\n",
      "\n",
      "    accuracy                           0.68       352\n",
      "   macro avg       0.68      0.68      0.68       352\n",
      "weighted avg       0.68      0.68      0.68       352\n",
      "\n"
     ]
    }
   ],
   "source": [
    "from sklearn import metrics\n",
    "from sklearn.model_selection import KFold, cross_val_score\n",
    "from sklearn.model_selection import cross_val_predict\n",
    "\n",
    "# Create k-Fold cross-validation\n",
    "kf = KFold(n_splits=20, shuffle=True, random_state=123)\n",
    "# Do k-fold cross-validation\n",
    "cv_results = cross_val_score(lg_model, # Model\n",
    "                             X_train_sm, # Feature matrix\n",
    "                             y_train_sm, # Target vector\n",
    "                             cv=kf, # Cross-validation technique\n",
    "                             scoring=\"accuracy\", # Loss function\n",
    "                             n_jobs=-1) # Use all CPU scores\n",
    "print(cv_results.mean())\n",
    "\n",
    "predicted = cross_val_predict(lg_model, X_train_sm, y_train_sm, cv=10)\n",
    "print(metrics.accuracy_score(y_train_sm, predicted))\n",
    "print(metrics.classification_report(y_train_sm, predicted))"
   ]
  },
  {
   "cell_type": "markdown",
   "metadata": {},
   "source": [
    "### Prediction and Accuracy Check"
   ]
  },
  {
   "cell_type": "code",
   "execution_count": 61,
   "metadata": {},
   "outputs": [
    {
     "name": "stdout",
     "output_type": "stream",
     "text": [
      "[[0.65139809 0.34860191]\n",
      " [0.5481605  0.4518395 ]\n",
      " [0.90749562 0.09250438]\n",
      " [0.25220364 0.74779636]\n",
      " [0.26702739 0.73297261]\n",
      " [0.67315519 0.32684481]\n",
      " [0.26365702 0.73634298]\n",
      " [0.57046633 0.42953367]\n",
      " [0.51870665 0.48129335]\n",
      " [0.36140471 0.63859529]\n",
      " [0.46301886 0.53698114]\n",
      " [0.57975936 0.42024064]\n",
      " [0.51870665 0.48129335]\n",
      " [0.64206074 0.35793926]\n",
      " [0.17018339 0.82981661]\n",
      " [0.64219695 0.35780305]\n",
      " [0.59916677 0.40083323]\n",
      " [0.6144684  0.3855316 ]\n",
      " [0.12733735 0.87266265]\n",
      " [0.3245486  0.6754514 ]\n",
      " [0.64075156 0.35924844]\n",
      " [0.6288917  0.3711083 ]\n",
      " [0.28601364 0.71398636]\n",
      " [0.19903824 0.80096176]\n",
      " [0.92825645 0.07174355]\n",
      " [0.57046633 0.42953367]\n",
      " [0.25704422 0.74295578]\n",
      " [0.13294438 0.86705562]\n",
      " [0.34663468 0.65336532]\n",
      " [0.87892342 0.12107658]\n",
      " [0.41583579 0.58416421]\n",
      " [0.62550193 0.37449807]\n",
      " [0.13871359 0.86128641]\n",
      " [0.56268267 0.43731733]\n",
      " [0.65139809 0.34860191]\n",
      " [0.86646429 0.13353571]\n",
      " [0.71633392 0.28366608]\n",
      " [0.20608616 0.79391384]\n",
      " [0.43681503 0.56318497]\n",
      " [0.2840896  0.7159104 ]]\n",
      "f1=0.632 auc=0.761 ap=0.768\n"
     ]
    },
    {
     "data": {
      "image/png": "[encoded data removed]",
      "text/plain": [
       "<Figure size 432x288 with 1 Axes>"
      ]
     },
     "metadata": {
      "needs_background": "light"
     },
     "output_type": "display_data"
    },
    {
     "name": "stdout",
     "output_type": "stream",
     "text": [
      "[0.32684481 0.34860191 0.35780305 0.35793926 0.35924844 0.3711083\n",
      " 0.37449807 0.3855316  0.40083323 0.42024064 0.42953367 0.43731733\n",
      " 0.4518395  0.48129335 0.53698114 0.56318497 0.58416421 0.63859529\n",
      " 0.65336532 0.6754514  0.71398636 0.7159104  0.73297261 0.73634298\n",
      " 0.74295578 0.74779636 0.79391384 0.80096176 0.82981661 0.86128641\n",
      " 0.86705562 0.87266265]\n"
     ]
    }
   ],
   "source": [
    "# predict probabilities\n",
    "lg_probs = lg_model.predict_proba(X_test_sm)\n",
    "print(lg_probs)\n",
    "# keep probabilities for the positive outcome only\n",
    "lg_probs = lg_probs[:, 1]\n",
    "# predict class values\n",
    "yhat = lg_model.predict(X_test_sm)\n",
    "# calculate precision-recall curve\n",
    "precision, recall, thresholds = precision_recall_curve(y_test_sm, lg_probs)\n",
    "# calculate F1 score\n",
    "f1 = f1_score(y_test_sm, yhat)\n",
    "# calculate precision-recall AUC\n",
    "auc_F = auc(recall, precision)\n",
    "# calculate average precision score\n",
    "ap = average_precision_score(y_test_sm, lg_probs)\n",
    "print('f1=%.3f auc=%.3f ap=%.3f' % (f1, auc_F, ap))\n",
    "# plot no skill\n",
    "pyplot.plot([0, 1], [0.5, 0.5], linestyle='--')\n",
    "# plot the precision-recall curve for the model\n",
    "pyplot.plot(recall, precision, marker='.')\n",
    "# show the plot\n",
    "pyplot.show()\n",
    "print(thresholds)"
   ]
  },
  {
   "cell_type": "code",
   "execution_count": null,
   "metadata": {},
   "outputs": [],
   "source": []
  }
 ],
 "metadata": {
  "kernelspec": {
   "display_name": "Python 3",
   "language": "python",
   "name": "python3"
  },
  "language_info": {
   "codemirror_mode": {
    "name": "ipython",
    "version": 3
   },
   "file_extension": ".py",
   "mimetype": "text/x-python",
   "name": "python",
   "nbconvert_exporter": "python",
   "pygments_lexer": "ipython3",
   "version": "3.7.5"
  }
 },
 "nbformat": 4,
 "nbformat_minor": 2
}
